{
  "nbformat": 4,
  "nbformat_minor": 0,
  "metadata": {
    "colab": {
      "provenance": []
    },
    "kernelspec": {
      "name": "python3",
      "display_name": "Python 3"
    },
    "language_info": {
      "name": "python"
    }
  },
  "cells": [
    {
      "cell_type": "markdown",
      "source": [
        "**Creating a managed compute target with the SDK**"
      ],
      "metadata": {
        "id": "invbraPTBfQ3"
      }
    },
    {
      "cell_type": "code",
      "execution_count": null,
      "metadata": {
        "id": "mo9mHzcQBYac"
      },
      "outputs": [],
      "source": [
        "from azureml.core import Workspace\n",
        "from azureml.core.compute import ComputeTarget, AmlCompute\n",
        "\n",
        "# Load the workspace from the saved config file\n",
        "ws = Workspace.from_config()\n",
        "\n",
        "# Specify a name for the compute (unique within the workspace)\n",
        "compute_name = 'aml-cluster'\n",
        "\n",
        "# Define compute configuration\n",
        "compute_config = AmlCompute.provisioning_configuration(vm_size='STANDARD_DS11_V2',\n",
        "                                                       min_nodes=0, max_nodes=4,\n",
        "                                                       vm_priority='dedicated')\n",
        "\n",
        "# Create the compute\n",
        "aml_cluster = ComputeTarget.create(ws, compute_name, compute_config)\n",
        "aml_cluster.wait_for_completion(show_output=True)"
      ]
    },
    {
      "cell_type": "markdown",
      "source": [
        "**Attaching an unmanaged compute target with the SDK**"
      ],
      "metadata": {
        "id": "pioDYlGLBiCA"
      }
    },
    {
      "cell_type": "code",
      "source": [
        "from azureml.core import Workspace\n",
        "from azureml.core.compute import ComputeTarget, DatabricksCompute\n",
        "\n",
        "# Load the workspace from the saved config file\n",
        "ws = Workspace.from_config()\n",
        "\n",
        "# Specify a name for the compute (unique within the workspace)\n",
        "compute_name = 'db_cluster'\n",
        "\n",
        "# Define configuration for existing Azure Databricks cluster\n",
        "db_workspace_name = 'db_workspace'\n",
        "db_resource_group = 'db_resource_group'\n",
        "db_access_token = '1234-abc-5678-defg-90...'\n",
        "db_config = DatabricksCompute.attach_configuration(resource_group=db_resource_group,\n",
        "                                                   workspace_name=db_workspace_name,\n",
        "                                                   access_token=db_access_token)\n",
        "\n",
        "# Create the compute\n",
        "databricks_compute = ComputeTarget.attach(ws, compute_name, db_config)\n",
        "databricks_compute.wait_for_completion(True)"
      ],
      "metadata": {
        "id": "jjZSRTwWBlHA"
      },
      "execution_count": null,
      "outputs": []
    },
    {
      "cell_type": "markdown",
      "source": [
        "**Checking for an existing compute target**"
      ],
      "metadata": {
        "id": "Dx3dI0SfBopI"
      }
    },
    {
      "cell_type": "code",
      "source": [
        "from azureml.core.compute import ComputeTarget, AmlCompute\n",
        "from azureml.core.compute_target import ComputeTargetException\n",
        "\n",
        "compute_name = \"aml-cluster\"\n",
        "\n",
        "# Check if the compute target exists\n",
        "try:\n",
        "    aml_cluster = ComputeTarget(workspace=ws, name=compute_name)\n",
        "    print('Found existing cluster.')\n",
        "except ComputeTargetException:\n",
        "    # If not, create it\n",
        "    compute_config = AmlCompute.provisioning_configuration(vm_size='STANDARD_DS11_V2',\n",
        "                                                           max_nodes=4)\n",
        "    aml_cluster = ComputeTarget.create(ws, compute_name, compute_config)\n",
        "\n",
        "aml_cluster.wait_for_completion(show_output=True)"
      ],
      "metadata": {
        "id": "h4kgf6XVBmzI"
      },
      "execution_count": null,
      "outputs": []
    },
    {
      "cell_type": "code",
      "source": [
        "from azureml.core import Environment, ScriptRunConfig\n",
        "\n",
        "compute_name = 'aml-cluster'\n",
        "\n",
        "training_env = Environment.get(workspace=ws, name='training_environment')\n",
        "\n",
        "script_config = ScriptRunConfig(source_directory='my_dir',\n",
        "                                script='script.py',\n",
        "                                environment=training_env,\n",
        "                                compute_target=compute_name)"
      ],
      "metadata": {
        "id": "6wQ4Q_j4BvBw"
      },
      "execution_count": null,
      "outputs": []
    },
    {
      "cell_type": "code",
      "source": [
        "from azureml.core import Environment, ScriptRunConfig\n",
        "from azureml.core.compute import ComputeTarget\n",
        "\n",
        "compute_name = \"aml-cluster\"\n",
        "\n",
        "training_cluster = ComputeTarget(workspace=ws, name=compute_name)\n",
        "\n",
        "training_env = Environment.get(workspace=ws, name='training_environment')\n",
        "\n",
        "script_config = ScriptRunConfig(source_directory='my_dir',\n",
        "                                script='script.py',\n",
        "                                environment=training_env,\n",
        "                                compute_target=training_cluster)"
      ],
      "metadata": {
        "id": "BvT85LLEBvyd"
      },
      "execution_count": null,
      "outputs": []
    }
  ]
}