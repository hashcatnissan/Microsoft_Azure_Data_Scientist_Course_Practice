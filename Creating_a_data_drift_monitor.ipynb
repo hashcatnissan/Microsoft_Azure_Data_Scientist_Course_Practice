{
  "nbformat": 4,
  "nbformat_minor": 0,
  "metadata": {
    "colab": {
      "provenance": []
    },
    "kernelspec": {
      "name": "python3",
      "display_name": "Python 3"
    },
    "language_info": {
      "name": "python"
    }
  },
  "cells": [
    {
      "cell_type": "markdown",
      "source": [
        "**Monitor data drift by comparing datasets**"
      ],
      "metadata": {
        "id": "_Ry4chAJIvkI"
      }
    },
    {
      "cell_type": "code",
      "execution_count": null,
      "metadata": {
        "id": "lT8PSwJ3ItEj"
      },
      "outputs": [],
      "source": [
        "from azureml.datadrift import DataDriftDetector\n",
        "\n",
        "monitor = DataDriftDetector.create_from_datasets(workspace=ws,\n",
        "                                                 name='dataset-drift-detector',\n",
        "                                                 baseline_data_set=train_ds,\n",
        "                                                 target_data_set=new_data_ds,\n",
        "                                                 compute_target='aml-cluster',\n",
        "                                                 frequency='Week',\n",
        "                                                 feature_list=['age','height', 'bmi'],\n",
        "                                                 latency=24)"
      ]
    },
    {
      "cell_type": "code",
      "source": [
        "import datetime as dt\n",
        "\n",
        "backfill = monitor.backfill( dt.datetime.now() - dt.timedelta(weeks=6), dt.datetime.now())"
      ],
      "metadata": {
        "id": "xjymfSkAIzXL"
      },
      "execution_count": null,
      "outputs": []
    },
    {
      "cell_type": "markdown",
      "source": [
        "**Configure data drift monitor schedules**"
      ],
      "metadata": {
        "id": "N-IKY0rnI3Re"
      }
    },
    {
      "cell_type": "code",
      "source": [
        "alert_email = AlertConfiguration('data_scientists@contoso.com')\n",
        "monitor = DataDriftDetector.create_from_datasets(ws, 'dataset-drift-detector', \n",
        "                                                 baseline_data_set, target_data_set,\n",
        "                                                 compute_target=cpu_cluster,\n",
        "                                                 frequency='Week', latency=2,\n",
        "                                                 drift_threshold=.3,\n",
        "                                                 alert_configuration=alert_email)"
      ],
      "metadata": {
        "id": "Xa454fxMI42H"
      },
      "execution_count": null,
      "outputs": []
    }
  ]
}