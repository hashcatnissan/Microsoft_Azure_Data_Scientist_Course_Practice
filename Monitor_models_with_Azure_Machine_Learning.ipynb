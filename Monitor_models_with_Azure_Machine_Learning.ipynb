{
  "nbformat": 4,
  "nbformat_minor": 0,
  "metadata": {
    "colab": {
      "provenance": []
    },
    "kernelspec": {
      "name": "python3",
      "display_name": "Python 3"
    },
    "language_info": {
      "name": "python"
    }
  },
  "cells": [
    {
      "cell_type": "markdown",
      "source": [
        "**Enable Application Insights**"
      ],
      "metadata": {
        "id": "8FtE4M5hEx65"
      }
    },
    {
      "cell_type": "markdown",
      "source": [
        "**Associate Application Insights with a workspace**"
      ],
      "metadata": {
        "id": "JiTq38cDE1UW"
      }
    },
    {
      "cell_type": "code",
      "execution_count": null,
      "metadata": {
        "id": "1HjuEGPCEu1z"
      },
      "outputs": [],
      "source": [
        "from azureml.core import Workspace\n",
        "\n",
        "ws = Workspace.from_config()\n",
        "ws.get_details()['applicationInsights']"
      ]
    },
    {
      "cell_type": "markdown",
      "source": [
        "**Enable Application Insights for a service**"
      ],
      "metadata": {
        "id": "o8SCGfZaE6Qi"
      }
    },
    {
      "cell_type": "code",
      "source": [
        "dep_config = AciWebservice.deploy_configuration(cpu_cores = 1,\n",
        "                                                memory_gb = 1,\n",
        "                                                enable_app_insights=True)"
      ],
      "metadata": {
        "id": "Wvdw9AnME4hS"
      },
      "execution_count": null,
      "outputs": []
    },
    {
      "cell_type": "code",
      "source": [
        "service = ws.webservices['my-svc']\n",
        "service.update(enable_app_insights=True)"
      ],
      "metadata": {
        "id": "9eSYysnKE-tH"
      },
      "execution_count": null,
      "outputs": []
    },
    {
      "cell_type": "markdown",
      "source": [
        "**Capture and view telemetry**"
      ],
      "metadata": {
        "id": "ku0bVlxbFBlU"
      }
    },
    {
      "cell_type": "code",
      "source": [
        "def init():\n",
        "    global model\n",
        "    model = joblib.load(Model.get_model_path('my_model'))\n",
        "def run(raw_data):\n",
        "    data = json.loads(raw_data)['data']\n",
        "    predictions = model.predict(data)\n",
        "    log_txt = 'Data:' + str(data) + ' - Predictions:' + str(predictions)\n",
        "    print(log_txt)\n",
        "    return predictions.tolist()"
      ],
      "metadata": {
        "id": "5Y5Ot-LAFDVt"
      },
      "execution_count": null,
      "outputs": []
    },
    {
      "cell_type": "markdown",
      "source": [
        "**Query logs in Application Insights**"
      ],
      "metadata": {
        "id": "B-jY-zR9FHCs"
      }
    },
    {
      "cell_type": "code",
      "source": [
        "traces\n",
        "|where message == \"STDOUT\"\n",
        "  and customDimensions.[\"Service Name\"] = \"my-svc\"\n",
        "| project  timestamp, customDimensions.Content"
      ],
      "metadata": {
        "id": "4yg0uheeFJPd"
      },
      "execution_count": null,
      "outputs": []
    }
  ]
}