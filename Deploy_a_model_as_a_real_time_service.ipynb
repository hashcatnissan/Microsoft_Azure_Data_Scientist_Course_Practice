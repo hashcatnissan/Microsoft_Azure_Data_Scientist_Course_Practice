{
  "nbformat": 4,
  "nbformat_minor": 0,
  "metadata": {
    "colab": {
      "provenance": []
    },
    "kernelspec": {
      "name": "python3",
      "display_name": "Python 3"
    },
    "language_info": {
      "name": "python"
    }
  },
  "cells": [
    {
      "cell_type": "markdown",
      "source": [
        "**1. Register a trained model**"
      ],
      "metadata": {
        "id": "vuAZydxHMess"
      }
    },
    {
      "cell_type": "code",
      "execution_count": null,
      "metadata": {
        "id": "o8-GUfOuMdQt"
      },
      "outputs": [],
      "source": [
        "from azureml.core import Model\n",
        "\n",
        "classification_model = Model.register(workspace=ws,\n",
        "                       model_name='classification_model',\n",
        "                       model_path='model.pkl', # local path\n",
        "                       description='A classification model')"
      ]
    },
    {
      "cell_type": "code",
      "source": [
        "run.register_model( model_name='classification_model',\n",
        "                    model_path='outputs/model.pkl', # run outputs path\n",
        "                    description='A classification model')"
      ],
      "metadata": {
        "id": "x8ld2f_WMjvC"
      },
      "execution_count": null,
      "outputs": []
    },
    {
      "cell_type": "markdown",
      "source": [
        "**2. Define an inference configuration**"
      ],
      "metadata": {
        "id": "kckrqz-PMpcG"
      }
    },
    {
      "cell_type": "markdown",
      "source": [
        "**Create an entry script**"
      ],
      "metadata": {
        "id": "ttDZ0PcvMtp2"
      }
    },
    {
      "cell_type": "code",
      "source": [
        "import json\n",
        "import joblib\n",
        "import numpy as np\n",
        "import os\n",
        "\n",
        "# Called when the service is loaded\n",
        "def init():\n",
        "    global model\n",
        "    # Get the path to the registered model file and load it\n",
        "    model_path = os.path.join(os.getenv('AZUREML_MODEL_DIR'), 'model.pkl')\n",
        "    model = joblib.load(model_path)\n",
        "\n",
        "# Called when a request is received\n",
        "def run(raw_data):\n",
        "    # Get the input data as a numpy array\n",
        "    data = np.array(json.loads(raw_data)['data'])\n",
        "    # Get a prediction from the model\n",
        "    predictions = model.predict(data)\n",
        "    # Return the predictions as any JSON serializable format\n",
        "    return predictions.tolist()"
      ],
      "metadata": {
        "id": "1DF7ND7zMj9B"
      },
      "execution_count": null,
      "outputs": []
    },
    {
      "cell_type": "markdown",
      "source": [
        "**Create an environment**"
      ],
      "metadata": {
        "id": "00OJMj3cM39K"
      }
    },
    {
      "cell_type": "code",
      "source": [
        "from azureml.core import Environment\n",
        "\n",
        "service_env = Environment(name='service-env')\n",
        "python_packages = ['scikit-learn', 'numpy'] # whatever packages your entry script uses\n",
        "for package in python_packages:\n",
        "    service_env.python.conda_dependencies.add_pip_package(package)"
      ],
      "metadata": {
        "id": "xZw_05eKMj_s"
      },
      "execution_count": null,
      "outputs": []
    },
    {
      "cell_type": "markdown",
      "source": [
        "**Combine the script and environment in an InferenceConfig**"
      ],
      "metadata": {
        "id": "R0pusGO5M9Zv"
      }
    },
    {
      "cell_type": "code",
      "source": [
        "from azureml.core.model import InferenceConfig\n",
        "\n",
        "classifier_inference_config = InferenceConfig(source_directory = 'service_files',\n",
        "                                              entry_script=\"score.py\",\n",
        "                                              environment=service_env)"
      ],
      "metadata": {
        "id": "oPBWLYDdMkCW"
      },
      "execution_count": null,
      "outputs": []
    },
    {
      "cell_type": "markdown",
      "source": [
        "**3. Define a deployment configuration**"
      ],
      "metadata": {
        "id": "Hg4znNvURppO"
      }
    },
    {
      "cell_type": "code",
      "source": [
        "from azureml.core.compute import ComputeTarget, AksCompute\n",
        "\n",
        "cluster_name = 'aks-cluster'\n",
        "compute_config = AksCompute.provisioning_configuration(location='eastus')\n",
        "production_cluster = ComputeTarget.create(ws, cluster_name, compute_config)\n",
        "production_cluster.wait_for_completion(show_output=True)"
      ],
      "metadata": {
        "id": "WjLZZXtJRr8M"
      },
      "execution_count": null,
      "outputs": []
    },
    {
      "cell_type": "code",
      "source": [
        "from azureml.core.webservice import AksWebservice\n",
        "\n",
        "classifier_deploy_config = AksWebservice.deploy_configuration(cpu_cores = 1,\n",
        "                                                              memory_gb = 1)"
      ],
      "metadata": {
        "id": "QnblBFcMRsE7"
      },
      "execution_count": null,
      "outputs": []
    },
    {
      "cell_type": "markdown",
      "source": [
        "**4. Deploy the model**"
      ],
      "metadata": {
        "id": "regh1qUTRygU"
      }
    },
    {
      "cell_type": "code",
      "source": [
        "from azureml.core.model import Model\n",
        "\n",
        "model = ws.models['classification_model']\n",
        "service = Model.deploy(workspace=ws,\n",
        "                       name = 'classifier-service',\n",
        "                       models = [model],\n",
        "                       inference_config = classifier_inference_config,\n",
        "                       deployment_config = classifier_deploy_config,\n",
        "                       deployment_target = production_cluster)\n",
        "service.wait_for_deployment(show_output = True)"
      ],
      "metadata": {
        "id": "1p6cEVOHR06S"
      },
      "execution_count": null,
      "outputs": []
    },
    {
      "cell_type": "markdown",
      "source": [
        "**Consume a real-time inferencing service**"
      ],
      "metadata": {
        "id": "pD08hCW-SMpP"
      }
    },
    {
      "cell_type": "markdown",
      "source": [
        "**Use the Azure Machine Learning SDK**"
      ],
      "metadata": {
        "id": "Ehm3r9peSMt_"
      }
    },
    {
      "cell_type": "code",
      "source": [
        "{\n",
        "  \"data\":[\n",
        "      [0.1,2.3,4.1,2.0], // 1st case\n",
        "      [0.2,1.8,3.9,2.1],  // 2nd case,\n",
        "      ...\n",
        "  ]\n",
        "}"
      ],
      "metadata": {
        "id": "69-hC7HsR1CU"
      },
      "execution_count": null,
      "outputs": []
    },
    {
      "cell_type": "code",
      "source": [
        "import json\n",
        "\n",
        "# An array of new data cases\n",
        "x_new = [[0.1,2.3,4.1,2.0],\n",
        "         [0.2,1.8,3.9,2.1]]\n",
        "\n",
        "# Convert the array to a serializable list in a JSON document\n",
        "json_data = json.dumps({\"data\": x_new})\n",
        "\n",
        "# Call the web service, passing the input data\n",
        "response = service.run(input_data = json_data)\n",
        "\n",
        "# Get the predictions\n",
        "predictions = json.loads(response)\n",
        "\n",
        "# Print the predicted class for each case.\n",
        "for i in range(len(x_new)):\n",
        "    print (x_new[i], predictions[i])"
      ],
      "metadata": {
        "id": "JGAz_HmVSSG7"
      },
      "execution_count": null,
      "outputs": []
    },
    {
      "cell_type": "markdown",
      "source": [
        "**Use a REST endpoint**"
      ],
      "metadata": {
        "id": "bWwJhsgcSVmK"
      }
    },
    {
      "cell_type": "code",
      "source": [
        "endpoint = service.scoring_uri\n",
        "print(endpoint)"
      ],
      "metadata": {
        "id": "8ehoymk6STj1"
      },
      "execution_count": null,
      "outputs": []
    },
    {
      "cell_type": "code",
      "source": [
        "import requests\n",
        "import json\n",
        "\n",
        "# An array of new data cases\n",
        "x_new = [[0.1,2.3,4.1,2.0],\n",
        "         [0.2,1.8,3.9,2.1]]\n",
        "\n",
        "# Convert the array to a serializable list in a JSON document\n",
        "json_data = json.dumps({\"data\": x_new})\n",
        "\n",
        "# Set the content type in the request headers\n",
        "request_headers = { 'Content-Type':'application/json' }\n",
        "\n",
        "# Call the service\n",
        "response = requests.post(url = endpoint,\n",
        "                         data = json_data,\n",
        "                         headers = request_headers)\n",
        "\n",
        "# Get the predictions from the JSON response\n",
        "predictions = json.loads(response.json())\n",
        "\n",
        "# Print the predicted class for each case.\n",
        "for i in range(len(x_new)):\n",
        "    print (x_new[i]), predictions[i] )"
      ],
      "metadata": {
        "id": "QC-pnxbtSYXj"
      },
      "execution_count": null,
      "outputs": []
    },
    {
      "cell_type": "markdown",
      "source": [
        "**Authentication**"
      ],
      "metadata": {
        "id": "rAq3xQuRSbj3"
      }
    },
    {
      "cell_type": "code",
      "source": [
        "primary_key, secondary_key = service.get_keys()"
      ],
      "metadata": {
        "id": "2gBWkuItSYaL"
      },
      "execution_count": null,
      "outputs": []
    },
    {
      "cell_type": "code",
      "source": [
        "import requests\n",
        "import json\n",
        "\n",
        "# An array of new data cases\n",
        "x_new = [[0.1,2.3,4.1,2.0],\n",
        "         [0.2,1.8,3.9,2.1]]\n",
        "\n",
        "# Convert the array to a serializable list in a JSON document\n",
        "json_data = json.dumps({\"data\": x_new})\n",
        "\n",
        "# Set the content type in the request headers\n",
        "request_headers = { \"Content-Type\":\"application/json\",\n",
        "                    \"Authorization\":\"Bearer \" + key_or_token }\n",
        "\n",
        "# Call the service\n",
        "response = requests.post(url = endpoint,\n",
        "                         data = json_data,\n",
        "                         headers = request_headers)\n",
        "\n",
        "# Get the predictions from the JSON response\n",
        "predictions = json.loads(response.json())\n",
        "\n",
        "# Print the predicted class for each case.\n",
        "for i in range(len(x_new)):\n",
        "    print (x_new[i]), predictions[i] )"
      ],
      "metadata": {
        "id": "VJJytPjASeT4"
      },
      "execution_count": null,
      "outputs": []
    },
    {
      "cell_type": "markdown",
      "source": [
        "**Troubleshoot service deployment**"
      ],
      "metadata": {
        "id": "HitbyyFaSi6S"
      }
    },
    {
      "cell_type": "code",
      "source": [
        "from azureml.core.webservice import AksWebservice\n",
        "\n",
        "# Get the deployed service\n",
        "service = AksWebservice(name='classifier-service', workspace=ws)\n",
        "\n",
        "# Check its state\n",
        "print(service.state)"
      ],
      "metadata": {
        "id": "X-bpU8zZSkp2"
      },
      "execution_count": null,
      "outputs": []
    },
    {
      "cell_type": "code",
      "source": [
        "print(service.get_logs())"
      ],
      "metadata": {
        "id": "ZO3rdT_ESks9"
      },
      "execution_count": null,
      "outputs": []
    },
    {
      "cell_type": "markdown",
      "source": [
        "**Deploy to a local container**"
      ],
      "metadata": {
        "id": "PC1l_gz8Srpt"
      }
    },
    {
      "cell_type": "code",
      "source": [
        "from azureml.core.webservice import LocalWebservice\n",
        "\n",
        "deployment_config = LocalWebservice.deploy_configuration(port=8890)\n",
        "service = Model.deploy(ws, 'test-svc', [model], inference_config, deployment_config)"
      ],
      "metadata": {
        "id": "WVOgDx9nSn-l"
      },
      "execution_count": null,
      "outputs": []
    },
    {
      "cell_type": "code",
      "source": [
        "print(service.run(input_data = json_data))"
      ],
      "metadata": {
        "id": "Mz0IuPA7SoBU"
      },
      "execution_count": null,
      "outputs": []
    },
    {
      "cell_type": "code",
      "source": [
        "service.reload()\n",
        "print(service.run(input_data = json_data))"
      ],
      "metadata": {
        "id": "WFw_coVWSwRr"
      },
      "execution_count": null,
      "outputs": []
    }
  ]
}