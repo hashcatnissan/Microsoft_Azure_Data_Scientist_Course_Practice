{
  "nbformat": 4,
  "nbformat_minor": 0,
  "metadata": {
    "colab": {
      "provenance": []
    },
    "kernelspec": {
      "name": "python3",
      "display_name": "Python 3"
    },
    "language_info": {
      "name": "python"
    }
  },
  "cells": [
    {
      "cell_type": "markdown",
      "source": [
        "**Creating an explainer**"
      ],
      "metadata": {
        "id": "Kwn8tMmxyl8_"
      }
    },
    {
      "cell_type": "code",
      "execution_count": null,
      "metadata": {
        "id": "xDWMvWr8yguC"
      },
      "outputs": [],
      "source": [
        "# MimicExplainer\n",
        "from interpret.ext.blackbox import MimicExplainer\n",
        "from interpret.ext.glassbox import DecisionTreeExplainableModel\n",
        "\n",
        "mim_explainer = MimicExplainer(model=loan_model,\n",
        "                             initialization_examples=X_test,\n",
        "                             explainable_model = DecisionTreeExplainableModel,\n",
        "                             features=['loan_amount','income','age','marital_status'], \n",
        "                             classes=['reject', 'approve'])\n",
        "                             \n",
        "\n",
        "# TabularExplainer\n",
        "from interpret.ext.blackbox import TabularExplainer\n",
        "\n",
        "tab_explainer = TabularExplainer(model=loan_model,\n",
        "                             initialization_examples=X_test,\n",
        "                             features=['loan_amount','income','age','marital_status'],\n",
        "                             classes=['reject', 'approve'])\n",
        "\n",
        "\n",
        "# PFIExplainer\n",
        "from interpret.ext.blackbox import PFIExplainer\n",
        "\n",
        "pfi_explainer = PFIExplainer(model = loan_model,\n",
        "                             features=['loan_amount','income','age','marital_status'],\n",
        "                             classes=['reject', 'approve'])"
      ]
    },
    {
      "cell_type": "markdown",
      "source": [
        "**Explaining global feature importance**"
      ],
      "metadata": {
        "id": "HLWi1iW2ysqK"
      }
    },
    {
      "cell_type": "code",
      "source": [
        "# MimicExplainer\n",
        "global_mim_explanation = mim_explainer.explain_global(X_train)\n",
        "global_mim_feature_importance = global_mim_explanation.get_feature_importance_dict()\n",
        "\n",
        "\n",
        "# TabularExplainer\n",
        "global_tab_explanation = tab_explainer.explain_global(X_train)\n",
        "global_tab_feature_importance = global_tab_explanation.get_feature_importance_dict()\n",
        "\n",
        "\n",
        "# PFIExplainer\n",
        "global_pfi_explanation = pfi_explainer.explain_global(X_train, y_train)\n",
        "global_pfi_feature_importance = global_pfi_explanation.get_feature_importance_dict()"
      ],
      "metadata": {
        "id": "jT8g7YNRyrBX"
      },
      "execution_count": null,
      "outputs": []
    },
    {
      "cell_type": "markdown",
      "source": [
        "**Explaining local feature importance**"
      ],
      "metadata": {
        "id": "OIUY3tKOywmj"
      }
    },
    {
      "cell_type": "code",
      "source": [
        "# MimicExplainer\n",
        "local_mim_explanation = mim_explainer.explain_local(X_test[0:5])\n",
        "local_mim_features = local_mim_explanation.get_ranked_local_names()\n",
        "local_mim_importance = local_mim_explanation.get_ranked_local_values()\n",
        "\n",
        "\n",
        "# TabularExplainer\n",
        "local_tab_explanation = tab_explainer.explain_local(X_test[0:5])\n",
        "local_tab_features = local_tab_explanation.get_ranked_local_names()\n",
        "local_tab_importance = local_tab_explanation.get_ranked_local_values()"
      ],
      "metadata": {
        "id": "sOZAe1yhyrEm"
      },
      "execution_count": null,
      "outputs": []
    },
    {
      "cell_type": "markdown",
      "source": [
        "**Creating an explanation in the experiment script**"
      ],
      "metadata": {
        "id": "GJx-ZSHOy1HM"
      }
    },
    {
      "cell_type": "code",
      "source": [
        "# Import Azure ML run library\n",
        "from azureml.core.run import Run\n",
        "from azureml.contrib.interpret.explanation.explanation_client import ExplanationClient\n",
        "from interpret.ext.blackbox import TabularExplainer\n",
        "# other imports as required\n",
        "\n",
        "# Get the experiment run context\n",
        "run = Run.get_context()\n",
        "\n",
        "# code to train model goes here\n",
        "\n",
        "# Get explanation\n",
        "explainer = TabularExplainer(model, X_train, features=features, classes=labels)\n",
        "explanation = explainer.explain_global(X_test)\n",
        "\n",
        "# Get an Explanation Client and upload the explanation\n",
        "explain_client = ExplanationClient.from_run(run)\n",
        "explain_client.upload_model_explanation(explanation, comment='Tabular Explanation')\n",
        "\n",
        "# Complete the run\n",
        "run.complete()"
      ],
      "metadata": {
        "id": "XHHOI9oGy2uG"
      },
      "execution_count": null,
      "outputs": []
    },
    {
      "cell_type": "markdown",
      "source": [
        "**Viewing the explanation**"
      ],
      "metadata": {
        "id": "kfw_FW3Qy5N3"
      }
    },
    {
      "cell_type": "code",
      "source": [
        "from azureml.contrib.interpret.explanation.explanation_client import ExplanationClient\n",
        "\n",
        "client = ExplanationClient.from_run_id(workspace=ws,\n",
        "                                       experiment_name=experiment.experiment_name, \n",
        "                                       run_id=run.id)\n",
        "explanation = client.download_model_explanation()\n",
        "feature_importances = explanation.get_feature_importance_dict()"
      ],
      "metadata": {
        "id": "9zg_TX6Qy4YW"
      },
      "execution_count": null,
      "outputs": []
    }
  ]
}